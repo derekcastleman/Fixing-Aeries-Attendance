{
 "cells": [
  {
   "cell_type": "markdown",
   "id": "e9ba1505",
   "metadata": {},
   "source": [
    "# Student Attendance Data Cleaning and ISP Data\n",
    "\n",
    "Students that have been enrolled in ISP of any form have been showing up in duplicates in the Aeries query for attendance. Using this code, students that have duplicates will be cleaned by:\n",
    "1) Separating them from the non duplicates.\n",
    "2) Determining if they have completed, are in progress, or are incomplete in ISP.\n",
    "3) Data will then be cleaned up depending on what category they are under.\n",
    "\n",
    "Once the data has been cleaned for ISP students they will be rejoined with the rest of the students to produce a master attendance file that no longer has duplicates along with other sheets that give calculations on the number of students for each category at all of the school sites along with a list of students in progress and incomplete.\n",
    "\n",
    "The Aeries query to obtain the data used for this file is (adjust the year in the query for the current school year):\n",
    "\n",
    "LIST AHS STU STU.SC STU.NM STU.ID STU.GR AHS.YR AHS.EN AHS.PR AHS.AB AHS.AE AHS.AU AHS.TD AHS.TRU AHS.SU AHS.ISS AHS.ISC AHS.ISI IF AHS.YR = 2022-2023\n",
    "\n",
    "__Make sure to scroll to the bottom to look over the checks on possible special situations that you might have to look into about the data.__"
   ]
  },
  {
   "cell_type": "code",
   "execution_count": null,
   "id": "480b92ff",
   "metadata": {},
   "outputs": [],
   "source": [
    "import numpy as np\n",
    "import pandas as pd"
   ]
  },
  {
   "cell_type": "code",
   "execution_count": null,
   "id": "7fc3a477",
   "metadata": {},
   "outputs": [],
   "source": [
    "# Place the destination that is desired for the generated file to output\n",
    "output_final = \"C:\\\\Users\\\\derek.castleman\\\\Desktop\\\\MonthlyDataPull\\\\November\\\\Fixed_Attendance.xlsx\""
   ]
  },
  {
   "cell_type": "code",
   "execution_count": null,
   "id": "65da5882",
   "metadata": {},
   "outputs": [],
   "source": [
    "# Copy the file pathway from the Aeries query into the parenthesis\n",
    "attendance = pd.read_excel(r\"C:\\Users\\derek.castleman\\Desktop\\PrintQueryToExcel_20221205_101047_85335fc.xlsx\")\n",
    "attendance"
   ]
  },
  {
   "cell_type": "code",
   "execution_count": null,
   "id": "a48e1ff2",
   "metadata": {},
   "outputs": [],
   "source": [
    "#Making sure that we are only looking at current school year\n",
    "att = attendance[attendance['Year']=='2022-2023']\n",
    "att"
   ]
  },
  {
   "cell_type": "code",
   "execution_count": null,
   "id": "f7bbf81b",
   "metadata": {},
   "outputs": [],
   "source": [
    "# Check to see if any students have more than two rows of data\n",
    "more_than_two = att.groupby(['Student ID']).size()\n",
    "more_than_two = more_than_two.to_frame()\n",
    "more_than_two = more_than_two.rename(columns = {0:'Number Rows'}, inplace = False)\n",
    "more_than_two = more_than_two[more_than_two['Number Rows'] > 2]\n",
    "more_than_two"
   ]
  },
  {
   "cell_type": "code",
   "execution_count": null,
   "id": "8a42151d",
   "metadata": {},
   "outputs": [],
   "source": [
    "#Separating duplicated students from the rest and keeping both rows for them\n",
    "duplicated_students = att[att.duplicated(subset=['Student ID'], keep = False)]\n",
    "duplicated_students"
   ]
  },
  {
   "cell_type": "markdown",
   "id": "9373c6c8",
   "metadata": {},
   "source": [
    "## Getting Students with Duplicated Rows and ISP Attendance\n",
    "\n",
    "Duplicated students have two rows for them. They have the ones in which they are doing ISP and then their regular attendance at the school In this section, the students are sorted by their Student ID and then enrollment. The lower value represents the days in which they are in ISP so this will be the one that is selected. \n",
    "\n",
    "This is done by enrollment since some duplicated students are in home hospital and have no ISP days, so this method will capture these students as well."
   ]
  },
  {
   "cell_type": "code",
   "execution_count": null,
   "id": "fc4effa8",
   "metadata": {},
   "outputs": [],
   "source": [
    "# Sorting students by ID and enrollment\n",
    "students_sorted = duplicated_students.sort_values(['Student ID','Enrolled'])\n",
    "students_sorted"
   ]
  },
  {
   "cell_type": "code",
   "execution_count": null,
   "id": "fc8fbc3d",
   "metadata": {},
   "outputs": [],
   "source": [
    "# The lowest value row for each student is selected\n",
    "lowest_number = students_sorted.groupby(['Student ID']).head(1)\n",
    "lowest_number"
   ]
  },
  {
   "cell_type": "code",
   "execution_count": null,
   "id": "39020a80",
   "metadata": {},
   "outputs": [],
   "source": [
    "# Looking over the data for any incosistencies\n",
    "lowest_number.describe()"
   ]
  },
  {
   "cell_type": "markdown",
   "id": "c2afb526",
   "metadata": {},
   "source": [
    "## Students Who Did Not Complete ISP or Are in Progress\n",
    "\n",
    "Students who have did not complete ISP days will be filtered out from the duplicates. They will be checked to see if they have any days of complete ISP done since students who have both might have to be deal with manually.\n",
    "\n",
    "Two groups (incomplete and did not complete ISP) will be created for further in the program. Students with a negative for present will have those values changed to zero. The absences will be updated for all students by setting the absences column equal to days of incomplete ISP.\n",
    "\n",
    "Students who are in progress for ISP are being considered as absent until it is completed since technically they cannot be counted as present until the ISP is completed."
   ]
  },
  {
   "cell_type": "code",
   "execution_count": null,
   "id": "9c99bcfe",
   "metadata": {},
   "outputs": [],
   "source": [
    "# Filtering out students with Incomplete ISP\n",
    "negative_students = lowest_number.loc[lowest_number['Days of Incomplete Independent Study'] > 0]\n",
    "negative_students"
   ]
  },
  {
   "cell_type": "code",
   "execution_count": null,
   "id": "8af9e604",
   "metadata": {},
   "outputs": [],
   "source": [
    "# Making sure that students do not have any complete days of ISP\n",
    "complete_check = negative_students.loc[negative_students['Days of Complete Independent Study'] != 0]\n",
    "complete_check"
   ]
  },
  {
   "cell_type": "code",
   "execution_count": null,
   "id": "e21fa609",
   "metadata": {},
   "outputs": [],
   "source": [
    "# Filtering students that are incomplete for ISP\n",
    "incomplete_isp = negative_students.loc[negative_students['Present'] < 0]\n",
    "incomplete_isp"
   ]
  },
  {
   "cell_type": "code",
   "execution_count": null,
   "id": "60cac790",
   "metadata": {},
   "outputs": [],
   "source": [
    "# Students in progress of ISP are filtered\n",
    "inprogress_isp = negative_students.loc[negative_students['Present'] == 0]\n",
    "inprogress_isp"
   ]
  },
  {
   "cell_type": "code",
   "execution_count": null,
   "id": "52661c67",
   "metadata": {
    "scrolled": true
   },
   "outputs": [],
   "source": [
    "# Changing present from negative to zero for incomplete students\n",
    "negative_students.loc[negative_students['Present'] <= 0, 'Present'] = 0\n",
    "negative_students"
   ]
  },
  {
   "cell_type": "code",
   "execution_count": null,
   "id": "aeeef2b0",
   "metadata": {},
   "outputs": [],
   "source": [
    "# Incomplete independent study days are set equal to absences\n",
    "negative_students['Absences'] = negative_students['Days of Incomplete Independent Study']\n",
    "negative_students"
   ]
  },
  {
   "cell_type": "markdown",
   "id": "0eb20d06",
   "metadata": {},
   "source": [
    "## Students who Completed ISP\n",
    "\n",
    "Students who have completed ISP need to have the days in which they are present be updated. This will be done by setting the days enrolled set equal to the days present. It is done this way so that home hospital students will be updated correctly as well since they do not have days of complete independent study.\n",
    "\n",
    "It will first be checked that the days enrolled equal the days of complete study before proceeding. And any students that are found to not have them equal can be looked into Aeries specifically to see if it is because of home hospital or something else."
   ]
  },
  {
   "cell_type": "code",
   "execution_count": null,
   "id": "f26c5096",
   "metadata": {},
   "outputs": [],
   "source": [
    "# Locating students that have completed ISP\n",
    "positive_students = lowest_number.loc[(lowest_number['Days of Complete Independent Study'] > 0) | (lowest_number['Present'] > 0)]\n",
    "positive_students"
   ]
  },
  {
   "cell_type": "code",
   "execution_count": null,
   "id": "6efac0fd",
   "metadata": {},
   "outputs": [],
   "source": [
    "# Check for students who Complete ISP does not equal days enrolled\n",
    "no_isp = positive_students.loc[(positive_students['Days of Complete Independent Study'] > 0) != (positive_students['Enrolled'] > 0)]\n",
    "no_isp"
   ]
  },
  {
   "cell_type": "code",
   "execution_count": null,
   "id": "cf7b8ae1",
   "metadata": {},
   "outputs": [],
   "source": [
    "# Students with ISP days completed\n",
    "isp_completed_students = positive_students.loc[positive_students['Days of Complete Independent Study'] > 0]\n",
    "isp_completed_students"
   ]
  },
  {
   "cell_type": "code",
   "execution_count": null,
   "id": "c30e5bf8",
   "metadata": {},
   "outputs": [],
   "source": [
    "# Checking to see if complete students do not have incomplete days\n",
    "incomplete_check = positive_students.loc[positive_students['Days of Incomplete Independent Study'] != 0]\n",
    "incomplete_check"
   ]
  },
  {
   "cell_type": "code",
   "execution_count": null,
   "id": "2d9c20d4",
   "metadata": {},
   "outputs": [],
   "source": [
    "# Setting days present to days enrolled to correct for missing data\n",
    "positive_students['Present'] = positive_students['Enrolled']\n",
    "positive_students"
   ]
  },
  {
   "cell_type": "markdown",
   "id": "2f89913d",
   "metadata": {},
   "source": [
    "## Combining Students and Fixing Duplicates\n",
    "\n",
    "Combining the data that has been fixed in the previous sections. Then concat it to the other duplicates that were filtered out at the beginning. Then merge the rows for each of the students to finally have the data fixed."
   ]
  },
  {
   "cell_type": "code",
   "execution_count": null,
   "id": "3632573d",
   "metadata": {},
   "outputs": [],
   "source": [
    "# Combining the fixed data\n",
    "combined = pd.concat([positive_students, negative_students])\n",
    "combined"
   ]
  },
  {
   "cell_type": "code",
   "execution_count": null,
   "id": "dfdd36cf",
   "metadata": {},
   "outputs": [],
   "source": [
    "students_sorted"
   ]
  },
  {
   "cell_type": "code",
   "execution_count": null,
   "id": "18e19a8e",
   "metadata": {},
   "outputs": [],
   "source": [
    "# Getting the other duplicate rows that were filtered out at first\n",
    "highest_number = students_sorted.groupby(['Student ID']).tail(1)\n",
    "highest_number"
   ]
  },
  {
   "cell_type": "code",
   "execution_count": null,
   "id": "468c3b44",
   "metadata": {},
   "outputs": [],
   "source": [
    "# Combining data to recreate the duplicated rows for each student\n",
    "combined_duplicated = pd.concat([highest_number, combined]).sort_values(['Student ID','Enrolled'])\n",
    "combined_duplicated"
   ]
  },
  {
   "cell_type": "code",
   "execution_count": null,
   "id": "27918c29",
   "metadata": {},
   "outputs": [],
   "source": [
    "# Merging the two rows for each student to create one single entry with the corrected data\n",
    "Schoolfixed_absent = combined_duplicated.groupby(['Student Name','Grade','Student ID', 'School', 'Year']).sum().reset_index()"
   ]
  },
  {
   "cell_type": "code",
   "execution_count": null,
   "id": "964213f1",
   "metadata": {},
   "outputs": [],
   "source": [
    "Schoolfixed_absent"
   ]
  },
  {
   "cell_type": "markdown",
   "id": "960eca59",
   "metadata": {},
   "source": [
    "## Selecting Rows Without Duplicates\n",
    "\n",
    "Now the values without duplicates need to be filtered from the original dataset so that they can be combined with the fixed formerly duplicated rows to get the final attendance file corrected for use in data analysis."
   ]
  },
  {
   "cell_type": "code",
   "execution_count": null,
   "id": "dc9e7f81",
   "metadata": {},
   "outputs": [],
   "source": [
    "att"
   ]
  },
  {
   "cell_type": "code",
   "execution_count": null,
   "id": "8d8010dc",
   "metadata": {},
   "outputs": [],
   "source": [
    "# Drops all rows that have any duplicates\n",
    "non_isp = att.drop_duplicates(subset = ['Student ID'], keep= False)\n",
    "non_isp"
   ]
  },
  {
   "cell_type": "markdown",
   "id": "059417a0",
   "metadata": {},
   "source": [
    "## Final Combining of Attendance"
   ]
  },
  {
   "cell_type": "code",
   "execution_count": null,
   "id": "bad57b51",
   "metadata": {},
   "outputs": [],
   "source": [
    "# Combining non-duplicate rows with the fixed rows\n",
    "fixed_attendance = pd.concat([Schoolfixed_absent, non_isp])\n",
    "fixed_attendance"
   ]
  },
  {
   "cell_type": "markdown",
   "id": "f073521b",
   "metadata": {},
   "source": [
    "## Calculations\n",
    "\n",
    "In this section, calculations will be made to get summary data on the school and ISP students. Enrollment for each school site will be calculated, followed by the number of students who have taken ISP, completed ISP, are in progress and did not complete ISP."
   ]
  },
  {
   "cell_type": "code",
   "execution_count": null,
   "id": "4dc3b55c",
   "metadata": {},
   "outputs": [],
   "source": [
    "# Calculates enrollment for the school\n",
    "calculations = fixed_attendance.groupby(['School']).size()\n",
    "calculations = calculations.to_frame()\n",
    "calculations = calculations.rename(columns = {0:'Enrollment'}, inplace = False)\n",
    "calculations"
   ]
  },
  {
   "cell_type": "code",
   "execution_count": null,
   "id": "00a55ea0",
   "metadata": {},
   "outputs": [],
   "source": [
    "# Calculates completed ISP at each site\n",
    "complete_isp = isp_completed_students.groupby(['School']).size()\n",
    "complete_isp = complete_isp.to_frame()\n",
    "complete_isp = complete_isp.rename(columns = {0:'Complete ISP'}, inplace = False)\n",
    "complete_isp"
   ]
  },
  {
   "cell_type": "code",
   "execution_count": null,
   "id": "53c5f183",
   "metadata": {},
   "outputs": [],
   "source": [
    "# Calculates incomplete ISP at each site\n",
    "incomplete_isp_final = incomplete_isp.groupby(['School']).size()\n",
    "incomplete_isp_final = incomplete_isp_final.to_frame()\n",
    "incomplete_isp_final = incomplete_isp_final.rename(columns = {0:'Incomplete ISP'}, inplace = False)\n",
    "incomplete_isp_final"
   ]
  },
  {
   "cell_type": "code",
   "execution_count": null,
   "id": "1d8fb96e",
   "metadata": {},
   "outputs": [],
   "source": [
    "# Calculates students in progress for ISP\n",
    "inprogress_isp_final = inprogress_isp.groupby(['School']).size()\n",
    "inprogress_isp_final = inprogress_isp_final.to_frame()\n",
    "inprogress_isp_final = inprogress_isp_final.rename(columns = {0:'In Progress ISP'}, inplace = False)\n",
    "inprogress_isp_final"
   ]
  },
  {
   "cell_type": "code",
   "execution_count": null,
   "id": "1a36a869",
   "metadata": {},
   "outputs": [],
   "source": [
    "# Merge Complete with Enrollment\n",
    "calculations = pd.merge(calculations, complete_isp, how='left', on='School')\n",
    "calculations"
   ]
  },
  {
   "cell_type": "code",
   "execution_count": null,
   "id": "b63567d8",
   "metadata": {},
   "outputs": [],
   "source": [
    "# Merge In Progress ISP\n",
    "calculations = pd.merge(calculations, inprogress_isp_final, how='left', on='School')\n",
    "calculations"
   ]
  },
  {
   "cell_type": "code",
   "execution_count": null,
   "id": "e9b058fe",
   "metadata": {},
   "outputs": [],
   "source": [
    "# Merge Incomplete ISP\n",
    "calculations = pd.merge(calculations, incomplete_isp_final, how='left', on='School')\n",
    "calculations"
   ]
  },
  {
   "cell_type": "code",
   "execution_count": null,
   "id": "3ff7dc29",
   "metadata": {},
   "outputs": [],
   "source": [
    "# Create a total ISP student column and reorder columns\n",
    "calculations = calculations.fillna(0)\n",
    "calculations['Total ISP'] = calculations['Complete ISP'] + calculations['In Progress ISP'] + calculations['Incomplete ISP']\n",
    "calculations = calculations[['Enrollment', 'Total ISP', 'Complete ISP', 'In Progress ISP', 'Incomplete ISP']]\n",
    "calculations"
   ]
  },
  {
   "cell_type": "markdown",
   "id": "6a6c2255",
   "metadata": {},
   "source": [
    "## Data Checks\n",
    "\n",
    "Different checks on the data at the end to see if there are any particular students that might have a unique situation that needs to be looked into.\n",
    "\n",
    "The checks are:\n",
    "\n",
    "1) __More than Two__: Seeing if any students have more than just two rows (three or more rows of data).\n",
    "\n",
    "2) __Complete Check__: Seeing if any students that have incomplete ISP have some days of completion.\n",
    "\n",
    "3) __Incomplete Check__: Seeing if any students that have complete ISP have some days of incompletion.\n",
    "\n",
    "4) __Non ISP Students with Two Rows__: Seeing if any students have double rows that are not ISP.\n",
    "\n",
    "_If check is blank then that means everything is looking good!!!_"
   ]
  },
  {
   "cell_type": "markdown",
   "id": "df7cc560",
   "metadata": {},
   "source": [
    "### More than Two\n",
    "\n",
    "Checks if any students have more than two lines that might need to be fixed manually in original file then rerun the Python Program."
   ]
  },
  {
   "cell_type": "code",
   "execution_count": null,
   "id": "d5bc2295",
   "metadata": {},
   "outputs": [],
   "source": [
    "more_than_two"
   ]
  },
  {
   "cell_type": "markdown",
   "id": "6cfec146",
   "metadata": {},
   "source": [
    "### Complete Check\n",
    "\n",
    "This looks into if there are any students that were categorized as having Incomplete ISP have any days they are credited for having complete ISP. This might require manual fixing of the data in the original file then rerunning the Python program."
   ]
  },
  {
   "cell_type": "code",
   "execution_count": null,
   "id": "42b089a1",
   "metadata": {},
   "outputs": [],
   "source": [
    "complete_check"
   ]
  },
  {
   "cell_type": "markdown",
   "id": "d273be65",
   "metadata": {},
   "source": [
    "### Incomplete Check\n",
    "\n",
    "This looks into if any students that are in the complete ISP category have any days that are incomplete ISP. This might require manually fixing the data in the original file then rerunning the Python program."
   ]
  },
  {
   "cell_type": "code",
   "execution_count": null,
   "id": "45167c92",
   "metadata": {},
   "outputs": [],
   "source": [
    "incomplete_check"
   ]
  },
  {
   "cell_type": "markdown",
   "id": "15492374",
   "metadata": {},
   "source": [
    "### Non ISP Students with Two Rows\n",
    "\n",
    "This will list any students that have two lines but do not have ISP. This could be due to home hospital. Should be verified in Aeries the reason why they have duplicates. May not need manually being fixed if enrolled and present values are there since they are incorporated in the code correctly throughout the program."
   ]
  },
  {
   "cell_type": "code",
   "execution_count": null,
   "id": "8b574bb3",
   "metadata": {},
   "outputs": [],
   "source": [
    "no_isp"
   ]
  },
  {
   "cell_type": "code",
   "execution_count": null,
   "id": "d6167254",
   "metadata": {},
   "outputs": [],
   "source": [
    "writer = pd.ExcelWriter(output_final)\n",
    "\n",
    "# Write each dataframe to a different worksheet.\n",
    "fixed_attendance.to_excel(writer, sheet_name='Student Attendance')\n",
    "calculations.to_excel(writer, sheet_name='ISP Data by School')\n",
    "isp_completed_students.to_excel(writer, sheet_name='Students Completed ISP')\n",
    "inprogress_isp.to_excel(writer, sheet_name='Students In progess ISP')\n",
    "incomplete_isp.to_excel(writer, sheet_name='Students Incomplete ISP')\n",
    "writer.save()"
   ]
  },
  {
   "cell_type": "code",
   "execution_count": null,
   "id": "fbdda5b0",
   "metadata": {},
   "outputs": [],
   "source": []
  }
 ],
 "metadata": {
  "kernelspec": {
   "display_name": "Python 3 (ipykernel)",
   "language": "python",
   "name": "python3"
  },
  "language_info": {
   "codemirror_mode": {
    "name": "ipython",
    "version": 3
   },
   "file_extension": ".py",
   "mimetype": "text/x-python",
   "name": "python",
   "nbconvert_exporter": "python",
   "pygments_lexer": "ipython3",
   "version": "3.9.7"
  }
 },
 "nbformat": 4,
 "nbformat_minor": 5
}
